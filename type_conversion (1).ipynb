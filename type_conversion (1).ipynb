{
  "nbformat": 4,
  "nbformat_minor": 0,
  "metadata": {
    "colab": {
      "provenance": []
    },
    "kernelspec": {
      "name": "python3",
      "display_name": "Python 3"
    },
    "language_info": {
      "name": "python"
    }
  },
  "cells": [
    {
      "cell_type": "markdown",
      "source": [
        "# 1. what is python?\n",
        "python is a programming language.\n",
        "\n",
        "## 2. who build python?\n",
        "\n",
        "* gudio van rausoom"
      ],
      "metadata": {
        "id": "fmldV88Px1Tv"
      }
    },
    {
      "cell_type": "code",
      "execution_count": null,
      "metadata": {
        "colab": {
          "base_uri": "https://localhost:8080/"
        },
        "id": "VLR2xt7wxkpd",
        "outputId": "ee10d716-e3b5-4180-b6f2-95d4ce81b574"
      },
      "outputs": [
        {
          "output_type": "stream",
          "name": "stdout",
          "text": [
            "hello\n"
          ]
        }
      ],
      "source": [
        "h = \"hello\"\n",
        "\n",
        "print(h)"
      ]
    },
    {
      "cell_type": "code",
      "source": [],
      "metadata": {
        "id": "-i0tQTtJya5j"
      },
      "execution_count": null,
      "outputs": []
    },
    {
      "cell_type": "markdown",
      "source": [
        "1. what is python?\n",
        "\n",
        "  \n",
        "\n",
        "*   Python is a programming language\n",
        "*   List item\n",
        "\n"
      ],
      "metadata": {
        "id": "6L5mXtnS7kV4"
      }
    },
    {
      "cell_type": "markdown",
      "source": [
        "\n",
        "\n",
        "1.   what is python or ai?\n",
        "\n",
        "\n",
        "    *   Explain what ia ai\n",
        "    *   List item\n",
        "\n",
        "\n",
        "2.   List item\n",
        "\n"
      ],
      "metadata": {
        "id": "FRKsoWpT7-DC"
      }
    },
    {
      "cell_type": "code",
      "source": [
        "print(\"hello\")"
      ],
      "metadata": {
        "id": "pBo2kq8sycwW",
        "colab": {
          "base_uri": "https://localhost:8080/"
        },
        "outputId": "64e5903d-244c-4e5c-edb9-749fcb2bf460"
      },
      "execution_count": 1,
      "outputs": [
        {
          "output_type": "stream",
          "name": "stdout",
          "text": [
            "hello\n"
          ]
        }
      ]
    },
    {
      "cell_type": "code",
      "source": [
        "!python --version"
      ],
      "metadata": {
        "colab": {
          "base_uri": "https://localhost:8080/"
        },
        "id": "ilhCFKRM8cQX",
        "outputId": "29678982-2d1c-41b6-f63b-51632d06764d"
      },
      "execution_count": 3,
      "outputs": [
        {
          "output_type": "stream",
          "name": "stdout",
          "text": [
            "Python 3.11.11\n"
          ]
        }
      ]
    },
    {
      "cell_type": "code",
      "source": [],
      "metadata": {
        "id": "xntHLp0j8e3m"
      },
      "execution_count": null,
      "outputs": []
    }
  ]
}